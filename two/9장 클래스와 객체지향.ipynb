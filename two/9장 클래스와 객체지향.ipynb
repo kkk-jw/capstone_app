{
 "cells": [
  {
   "cell_type": "code",
   "execution_count": 1,
   "id": "762bb40c",
   "metadata": {},
   "outputs": [
    {
     "data": {
      "text/plain": [
       "['cat', 'dog', 'lion', 'tiger']"
      ]
     },
     "execution_count": 1,
     "metadata": {},
     "output_type": "execute_result"
    }
   ],
   "source": [
    "animals = [\"lion\", \"tiger\", \"cat\", \"dog\"]\n",
    "animals.sort()\n",
    "animals"
   ]
  },
  {
   "cell_type": "code",
   "execution_count": 2,
   "id": "0d317953",
   "metadata": {},
   "outputs": [],
   "source": [
    "animals.append('rabbit')"
   ]
  },
  {
   "cell_type": "code",
   "execution_count": 3,
   "id": "6884fbd3",
   "metadata": {},
   "outputs": [
    {
     "data": {
      "text/plain": [
       "['rabbit', 'tiger', 'lion', 'dog', 'cat']"
      ]
     },
     "execution_count": 3,
     "metadata": {},
     "output_type": "execute_result"
    }
   ],
   "source": [
    "animals.reverse()\n",
    "animals"
   ]
  },
  {
   "cell_type": "code",
   "execution_count": 4,
   "id": "b4350a1a",
   "metadata": {},
   "outputs": [
    {
     "name": "stdout",
     "output_type": "stream",
     "text": [
      "cat\n"
     ]
    }
   ],
   "source": [
    "s = animals.pop()\n",
    "print(s)"
   ]
  },
  {
   "cell_type": "code",
   "execution_count": 5,
   "id": "e5df562f",
   "metadata": {},
   "outputs": [
    {
     "data": {
      "text/plain": [
       "'CAT'"
      ]
     },
     "execution_count": 5,
     "metadata": {},
     "output_type": "execute_result"
    }
   ],
   "source": [
    "s.upper()"
   ]
  },
  {
   "cell_type": "code",
   "execution_count": 6,
   "id": "4f946cd9",
   "metadata": {},
   "outputs": [
    {
     "data": {
      "text/plain": [
       "1"
      ]
     },
     "execution_count": 6,
     "metadata": {},
     "output_type": "execute_result"
    }
   ],
   "source": [
    "s.find('a')"
   ]
  },
  {
   "cell_type": "code",
   "execution_count": 7,
   "id": "67df7c82",
   "metadata": {},
   "outputs": [
    {
     "name": "stdout",
     "output_type": "stream",
     "text": [
      "<class 'list'>\n",
      "2288566570688\n"
     ]
    }
   ],
   "source": [
    "print(type(animals))\n",
    "print(id(animals))"
   ]
  },
  {
   "cell_type": "code",
   "execution_count": 8,
   "id": "c2adc020",
   "metadata": {},
   "outputs": [],
   "source": [
    "animals2 = ['dog', 'cat']"
   ]
  },
  {
   "cell_type": "code",
   "execution_count": 9,
   "id": "1b39a069",
   "metadata": {},
   "outputs": [
    {
     "name": "stdout",
     "output_type": "stream",
     "text": [
      "2288566572352\n"
     ]
    }
   ],
   "source": [
    "print(id(animals2))"
   ]
  },
  {
   "cell_type": "markdown",
   "id": "df8a2542",
   "metadata": {},
   "source": [
    "## lab 9-1"
   ]
  },
  {
   "cell_type": "code",
   "execution_count": 10,
   "id": "49f536c3",
   "metadata": {},
   "outputs": [
    {
     "data": {
      "text/plain": [
       "100"
      ]
     },
     "execution_count": 10,
     "metadata": {},
     "output_type": "execute_result"
    }
   ],
   "source": [
    "(200).__sub__(100)"
   ]
  },
  {
   "cell_type": "code",
   "execution_count": 11,
   "id": "422f53ef",
   "metadata": {},
   "outputs": [
    {
     "data": {
      "text/plain": [
       "40"
      ]
     },
     "execution_count": 11,
     "metadata": {},
     "output_type": "execute_result"
    }
   ],
   "source": [
    "[10, 20, 30, 40].pop()"
   ]
  },
  {
   "cell_type": "code",
   "execution_count": 12,
   "id": "011fdc62",
   "metadata": {},
   "outputs": [
    {
     "data": {
      "text/plain": [
       "['__abs__',\n",
       " '__add__',\n",
       " '__and__',\n",
       " '__bool__',\n",
       " '__ceil__',\n",
       " '__class__',\n",
       " '__delattr__',\n",
       " '__dir__',\n",
       " '__divmod__',\n",
       " '__doc__',\n",
       " '__eq__',\n",
       " '__float__',\n",
       " '__floor__',\n",
       " '__floordiv__',\n",
       " '__format__',\n",
       " '__ge__',\n",
       " '__getattribute__',\n",
       " '__getnewargs__',\n",
       " '__gt__',\n",
       " '__hash__',\n",
       " '__index__',\n",
       " '__init__',\n",
       " '__init_subclass__',\n",
       " '__int__',\n",
       " '__invert__',\n",
       " '__le__',\n",
       " '__lshift__',\n",
       " '__lt__',\n",
       " '__mod__',\n",
       " '__mul__',\n",
       " '__ne__',\n",
       " '__neg__',\n",
       " '__new__',\n",
       " '__or__',\n",
       " '__pos__',\n",
       " '__pow__',\n",
       " '__radd__',\n",
       " '__rand__',\n",
       " '__rdivmod__',\n",
       " '__reduce__',\n",
       " '__reduce_ex__',\n",
       " '__repr__',\n",
       " '__rfloordiv__',\n",
       " '__rlshift__',\n",
       " '__rmod__',\n",
       " '__rmul__',\n",
       " '__ror__',\n",
       " '__round__',\n",
       " '__rpow__',\n",
       " '__rrshift__',\n",
       " '__rshift__',\n",
       " '__rsub__',\n",
       " '__rtruediv__',\n",
       " '__rxor__',\n",
       " '__setattr__',\n",
       " '__sizeof__',\n",
       " '__str__',\n",
       " '__sub__',\n",
       " '__subclasshook__',\n",
       " '__truediv__',\n",
       " '__trunc__',\n",
       " '__xor__',\n",
       " 'as_integer_ratio',\n",
       " 'bit_length',\n",
       " 'conjugate',\n",
       " 'denominator',\n",
       " 'from_bytes',\n",
       " 'imag',\n",
       " 'numerator',\n",
       " 'real',\n",
       " 'to_bytes']"
      ]
     },
     "execution_count": 12,
     "metadata": {},
     "output_type": "execute_result"
    }
   ],
   "source": [
    "dir(int)"
   ]
  },
  {
   "cell_type": "markdown",
   "id": "0df88151",
   "metadata": {},
   "source": [
    "## 클래스, 객체, 인스턴스"
   ]
  },
  {
   "cell_type": "code",
   "execution_count": 13,
   "id": "cb939790",
   "metadata": {},
   "outputs": [],
   "source": [
    "class Cat:\n",
    "    pass"
   ]
  },
  {
   "cell_type": "code",
   "execution_count": 14,
   "id": "580a4a47",
   "metadata": {},
   "outputs": [
    {
     "name": "stdout",
     "output_type": "stream",
     "text": [
      "<__main__.Cat object at 0x00000214D92FF460>\n"
     ]
    }
   ],
   "source": [
    "nabi= Cat()\n",
    "print(nabi)"
   ]
  },
  {
   "cell_type": "code",
   "execution_count": 16,
   "id": "c0b17954",
   "metadata": {},
   "outputs": [],
   "source": [
    "class Cat:\n",
    "    def meow(self):\n",
    "        print('야옹애옹')"
   ]
  },
  {
   "cell_type": "code",
   "execution_count": 19,
   "id": "14819f9d",
   "metadata": {},
   "outputs": [],
   "source": [
    "nabi = Cat()"
   ]
  },
  {
   "cell_type": "code",
   "execution_count": 20,
   "id": "69910e62",
   "metadata": {},
   "outputs": [
    {
     "name": "stdout",
     "output_type": "stream",
     "text": [
      "야옹애옹\n"
     ]
    }
   ],
   "source": [
    "nabi.meow()"
   ]
  },
  {
   "cell_type": "code",
   "execution_count": 21,
   "id": "e5059b2f",
   "metadata": {},
   "outputs": [
    {
     "name": "stdout",
     "output_type": "stream",
     "text": [
      "야옹애옹\n"
     ]
    }
   ],
   "source": [
    "nero = Cat()\n",
    "nero.meow()"
   ]
  },
  {
   "cell_type": "code",
   "execution_count": 22,
   "id": "769359d5",
   "metadata": {},
   "outputs": [
    {
     "name": "stdout",
     "output_type": "stream",
     "text": [
      "야옹애옹\n"
     ]
    }
   ],
   "source": [
    "mimi = Cat()\n",
    "mimi.meow()"
   ]
  },
  {
   "cell_type": "markdown",
   "id": "30809722",
   "metadata": {},
   "source": [
    "## lab 9-4"
   ]
  },
  {
   "cell_type": "code",
   "execution_count": 23,
   "id": "247f1b1d",
   "metadata": {},
   "outputs": [],
   "source": [
    "class Dog:\n",
    "    def bark(self):\n",
    "        print('멍멍')"
   ]
  },
  {
   "cell_type": "code",
   "execution_count": 24,
   "id": "16cb283a",
   "metadata": {},
   "outputs": [
    {
     "name": "stdout",
     "output_type": "stream",
     "text": [
      "멍멍\n"
     ]
    }
   ],
   "source": [
    "my_dog = Dog()\n",
    "my_dog.bark()\n"
   ]
  },
  {
   "cell_type": "markdown",
   "id": "48050b45",
   "metadata": {},
   "source": [
    "## 생성자(초기화메소자)"
   ]
  },
  {
   "cell_type": "code",
   "execution_count": 32,
   "id": "81313b70",
   "metadata": {},
   "outputs": [],
   "source": [
    "class Cat:\n",
    "    def __init__(self, name, color = '흰색'):\n",
    "        self.name = name\n",
    "        self.color = color\n",
    "    def meow(self):\n",
    "        print('내 이름은 {}, 색깔은 {}, 애오애옹'.format(self.name,self.color))"
   ]
  },
  {
   "cell_type": "code",
   "execution_count": 33,
   "id": "a73751e6",
   "metadata": {},
   "outputs": [],
   "source": [
    "nabi = Cat('나비', '검정색')"
   ]
  },
  {
   "cell_type": "code",
   "execution_count": 34,
   "id": "7c0df5a3",
   "metadata": {},
   "outputs": [],
   "source": [
    "nero = Cat('네로', '흰색')\n",
    "mimi = Cat('미미', '갈색')"
   ]
  },
  {
   "cell_type": "code",
   "execution_count": 35,
   "id": "1df86fee",
   "metadata": {},
   "outputs": [
    {
     "name": "stdout",
     "output_type": "stream",
     "text": [
      "내 이름은 나비, 색깔은 검정색, 애오애옹\n"
     ]
    }
   ],
   "source": [
    "nabi.meow()"
   ]
  },
  {
   "cell_type": "code",
   "execution_count": 36,
   "id": "70660d14",
   "metadata": {},
   "outputs": [
    {
     "name": "stdout",
     "output_type": "stream",
     "text": [
      "내 이름은 네로, 색깔은 흰색, 애오애옹\n"
     ]
    }
   ],
   "source": [
    "nero.meow()"
   ]
  },
  {
   "cell_type": "code",
   "execution_count": 37,
   "id": "6ff4db14",
   "metadata": {},
   "outputs": [
    {
     "name": "stdout",
     "output_type": "stream",
     "text": [
      "내 이름은 미미, 색깔은 갈색, 애오애옹\n"
     ]
    }
   ],
   "source": [
    "mimi.meow()"
   ]
  },
  {
   "cell_type": "markdown",
   "id": "f8942ff0",
   "metadata": {},
   "source": [
    "## lab 9-5"
   ]
  },
  {
   "cell_type": "code",
   "execution_count": 38,
   "id": "3c6ba2b1",
   "metadata": {},
   "outputs": [],
   "source": [
    "class Dog:\n",
    "    def __init__(self, name):\n",
    "        self.name = name\n",
    "    def bark(self):\n",
    "        print(self.name, \": 멍멍\")"
   ]
  },
  {
   "cell_type": "code",
   "execution_count": 42,
   "id": "27bbe6c4",
   "metadata": {
    "scrolled": true
   },
   "outputs": [
    {
     "name": "stdout",
     "output_type": "stream",
     "text": [
      "jindo : 멍멍\n"
     ]
    }
   ],
   "source": [
    "my_dog = Dog('jindo')\n",
    "my_dog.bark()"
   ]
  },
  {
   "cell_type": "markdown",
   "id": "99f93f25",
   "metadata": {},
   "source": [
    "## 문자열화 메소드"
   ]
  },
  {
   "cell_type": "code",
   "execution_count": 43,
   "id": "79e97a68",
   "metadata": {},
   "outputs": [
    {
     "name": "stdout",
     "output_type": "stream",
     "text": [
      "<__main__.Dog object at 0x00000214D92FFB50>\n"
     ]
    }
   ],
   "source": [
    "print(my_dog)"
   ]
  },
  {
   "cell_type": "code",
   "execution_count": 60,
   "id": "9a7e3685",
   "metadata": {},
   "outputs": [],
   "source": [
    "class Cat:\n",
    "    def __init__(self, name, color = '흰색'):\n",
    "        self.name = name\n",
    "        self.color = color\n",
    "    def __str__(self):\n",
    "        return 'Cat(name='+self.name+',color='+self.color+')'"
   ]
  },
  {
   "cell_type": "code",
   "execution_count": 61,
   "id": "d0f02c66",
   "metadata": {},
   "outputs": [],
   "source": [
    "nabi = Cat('나비', '검정색')"
   ]
  },
  {
   "cell_type": "code",
   "execution_count": 62,
   "id": "7328e456",
   "metadata": {},
   "outputs": [],
   "source": [
    "nero = Cat('네로', '흰색')"
   ]
  },
  {
   "cell_type": "code",
   "execution_count": 63,
   "id": "35725db4",
   "metadata": {},
   "outputs": [
    {
     "name": "stdout",
     "output_type": "stream",
     "text": [
      "Cat(name=나비,color=검정색)\n",
      "Cat(name=네로,color=흰색)\n"
     ]
    }
   ],
   "source": [
    "print(nabi)\n",
    "print(nero)"
   ]
  },
  {
   "cell_type": "code",
   "execution_count": 64,
   "id": "d8292ecb",
   "metadata": {},
   "outputs": [
    {
     "name": "stdout",
     "output_type": "stream",
     "text": [
      "nabi의 정보 : Cat(name=나비,color=검정색)\n"
     ]
    }
   ],
   "source": [
    "print(\"nabi의 정보 : {}\".format(nabi))"
   ]
  },
  {
   "cell_type": "markdown",
   "id": "7c67da62",
   "metadata": {},
   "source": [
    "## lab 9-6"
   ]
  },
  {
   "cell_type": "code",
   "execution_count": 67,
   "id": "d728f0c6",
   "metadata": {},
   "outputs": [],
   "source": [
    "class Dog:\n",
    "    def __init__(self, name):\n",
    "        self.name = name\n",
    "    def __str__(self):\n",
    "        return 'my dog의 정보 : Dog(name =' +self.name+')'"
   ]
  },
  {
   "cell_type": "code",
   "execution_count": 68,
   "id": "e9e5bb49",
   "metadata": {},
   "outputs": [
    {
     "name": "stdout",
     "output_type": "stream",
     "text": [
      "my dog의 정보 : Dog(name =jindo)\n"
     ]
    }
   ],
   "source": [
    "my_dog = Dog('jindo')\n",
    "print(my_dog)"
   ]
  },
  {
   "cell_type": "markdown",
   "id": "9ea84a54",
   "metadata": {},
   "source": [
    "## 캡슐화"
   ]
  },
  {
   "cell_type": "code",
   "execution_count": 2,
   "id": "6e1fdacc",
   "metadata": {},
   "outputs": [],
   "source": [
    "class Cat:\n",
    "    def __init__(self, name, age):\n",
    "        self.name = name\n",
    "        self.age = age\n",
    "    def __str__(self):\n",
    "        return 'Cat(name='+self.name+',age='+str(self.age)+')'"
   ]
  },
  {
   "cell_type": "code",
   "execution_count": 3,
   "id": "e7ddb9e5",
   "metadata": {},
   "outputs": [
    {
     "name": "stdout",
     "output_type": "stream",
     "text": [
      "Cat(name=나비,age=3)\n",
      "Cat(name=나비,age=4)\n",
      "Cat(name=나비,age=-5)\n"
     ]
    }
   ],
   "source": [
    "nabi = Cat('나비', 3)\n",
    "print(nabi)\n",
    "nabi.age = 4\n",
    "print(nabi)\n",
    "nabi.age = -5\n",
    "print(nabi)"
   ]
  },
  {
   "cell_type": "code",
   "execution_count": 7,
   "id": "d0b70e6c",
   "metadata": {},
   "outputs": [],
   "source": [
    "class Cat:\n",
    "    def __init__(self, name, age):\n",
    "        self.__name = name\n",
    "        self.__age = age\n",
    "    def __str__(self):\n",
    "        return 'Cat(name ='+self.__name+', age='+str(self.__age)+')'\n",
    "    def set_age(self, age):\n",
    "        if age > 0:\n",
    "            self.__age = age\n",
    "    def get_age(self):\n",
    "        return self.__age"
   ]
  },
  {
   "cell_type": "code",
   "execution_count": 9,
   "id": "b9776be3",
   "metadata": {},
   "outputs": [
    {
     "name": "stdout",
     "output_type": "stream",
     "text": [
      "Cat(name =나비, age=3)\n"
     ]
    }
   ],
   "source": [
    "nabi = Cat('나비', 3)\n",
    "nabi.age = 4\n",
    "nabi.name = '네로'\n",
    "print(nabi)"
   ]
  },
  {
   "cell_type": "code",
   "execution_count": 10,
   "id": "ac7a6329",
   "metadata": {},
   "outputs": [
    {
     "name": "stdout",
     "output_type": "stream",
     "text": [
      "Cat(name =나비, age=3)\n"
     ]
    },
    {
     "data": {
      "text/plain": [
       "3"
      ]
     },
     "execution_count": 10,
     "metadata": {},
     "output_type": "execute_result"
    }
   ],
   "source": [
    "nabi = Cat('나비', 3)\n",
    "nabi.age = -5\n",
    "print(nabi)\n",
    "nabi.get_age()"
   ]
  },
  {
   "cell_type": "markdown",
   "id": "4574d566",
   "metadata": {},
   "source": [
    "## is, is not"
   ]
  },
  {
   "cell_type": "code",
   "execution_count": 11,
   "id": "5a60074c",
   "metadata": {},
   "outputs": [
    {
     "name": "stdout",
     "output_type": "stream",
     "text": [
      "list_a is not list_b\n"
     ]
    }
   ],
   "source": [
    "list_a = [10, 20, 30]\n",
    "list_b = [10, 20, 30]\n",
    "if list_a is list_b:\n",
    "    print(\"list_a is list_b\")\n",
    "else:\n",
    "    print(\"list_a is not list_b\")"
   ]
  },
  {
   "cell_type": "code",
   "execution_count": 12,
   "id": "b08bde10",
   "metadata": {},
   "outputs": [
    {
     "name": "stdout",
     "output_type": "stream",
     "text": [
      "2392610527680\n",
      "2392610553536\n"
     ]
    }
   ],
   "source": [
    "print(id(list_a))\n",
    "print(id(list_b))"
   ]
  },
  {
   "cell_type": "code",
   "execution_count": 13,
   "id": "dbab3f82",
   "metadata": {},
   "outputs": [
    {
     "name": "stdout",
     "output_type": "stream",
     "text": [
      "list_a == list_b\n"
     ]
    }
   ],
   "source": [
    "list_a = [10, 20, 30]\n",
    "list_b = [10, 20, 30]\n",
    "if list_a == list_b:\n",
    "    print(\"list_a == list_b\")\n",
    "else:\n",
    "    print(\"list_a != not list_b\")"
   ]
  },
  {
   "cell_type": "code",
   "execution_count": 15,
   "id": "076fbfb9",
   "metadata": {},
   "outputs": [
    {
     "name": "stdout",
     "output_type": "stream",
     "text": [
      "a is b\n"
     ]
    }
   ],
   "source": [
    "a = \"ABC\"\n",
    "b = \"ABC\"\n",
    "if a is b:\n",
    "    print(\"a is b\")\n",
    "else:\n",
    "    print(\"a is not b\")"
   ]
  },
  {
   "cell_type": "code",
   "execution_count": 16,
   "id": "9f0ae114",
   "metadata": {},
   "outputs": [
    {
     "name": "stdout",
     "output_type": "stream",
     "text": [
      "a is b\n"
     ]
    }
   ],
   "source": [
    "a = 100\n",
    "b = 100\n",
    "if a is b:\n",
    "    print(\"a is b\")\n",
    "else:\n",
    "    print(\"a is not b\")"
   ]
  },
  {
   "cell_type": "markdown",
   "id": "90ce38d8",
   "metadata": {},
   "source": [
    "## 클래스와 특수 메소드"
   ]
  },
  {
   "cell_type": "code",
   "execution_count": 17,
   "id": "98574b2e",
   "metadata": {},
   "outputs": [],
   "source": [
    "class Vector2D:\n",
    "    def __init__(self, x, y):\n",
    "        self.x = x\n",
    "        self.y = y"
   ]
  },
  {
   "cell_type": "code",
   "execution_count": 18,
   "id": "0f24dca0",
   "metadata": {},
   "outputs": [
    {
     "ename": "TypeError",
     "evalue": "unsupported operand type(s) for +: 'Vector2D' and 'Vector2D'",
     "output_type": "error",
     "traceback": [
      "\u001b[1;31m---------------------------------------------------------------------------\u001b[0m",
      "\u001b[1;31mTypeError\u001b[0m                                 Traceback (most recent call last)",
      "\u001b[1;32m~\\AppData\\Local\\Temp/ipykernel_13664/4113110936.py\u001b[0m in \u001b[0;36m<module>\u001b[1;34m\u001b[0m\n\u001b[0;32m      1\u001b[0m \u001b[0mv1\u001b[0m \u001b[1;33m=\u001b[0m \u001b[0mVector2D\u001b[0m\u001b[1;33m(\u001b[0m\u001b[1;36m30\u001b[0m\u001b[1;33m,\u001b[0m \u001b[1;36m40\u001b[0m\u001b[1;33m)\u001b[0m\u001b[1;33m\u001b[0m\u001b[1;33m\u001b[0m\u001b[0m\n\u001b[0;32m      2\u001b[0m \u001b[0mv2\u001b[0m \u001b[1;33m=\u001b[0m \u001b[0mVector2D\u001b[0m\u001b[1;33m(\u001b[0m\u001b[1;36m10\u001b[0m\u001b[1;33m,\u001b[0m \u001b[1;36m20\u001b[0m\u001b[1;33m)\u001b[0m\u001b[1;33m\u001b[0m\u001b[1;33m\u001b[0m\u001b[0m\n\u001b[1;32m----> 3\u001b[1;33m \u001b[0mv3\u001b[0m \u001b[1;33m=\u001b[0m \u001b[0mv1\u001b[0m \u001b[1;33m+\u001b[0m \u001b[0mv2\u001b[0m\u001b[1;33m\u001b[0m\u001b[1;33m\u001b[0m\u001b[0m\n\u001b[0m",
      "\u001b[1;31mTypeError\u001b[0m: unsupported operand type(s) for +: 'Vector2D' and 'Vector2D'"
     ]
    }
   ],
   "source": [
    "v1 = Vector2D(30, 40)\n",
    "v2 = Vector2D(10, 20)\n",
    "v3 = v1 + v2"
   ]
  },
  {
   "cell_type": "code",
   "execution_count": 21,
   "id": "3beeebd6",
   "metadata": {},
   "outputs": [],
   "source": [
    "class Vector2D:\n",
    "    def __init__(self, x, y):\n",
    "        self.x = x\n",
    "        self.y = y\n",
    "    def __str__(self):\n",
    "        return \"({}, {})\".format(self.x, self.y)\n",
    "    def add(self, orther):\n",
    "        return Vector2D(self.x + orther.x, self.y + orther.y)"
   ]
  },
  {
   "cell_type": "markdown",
   "id": "24ddc1c6",
   "metadata": {},
   "source": []
  },
  {
   "cell_type": "code",
   "execution_count": 22,
   "id": "83ab73ce",
   "metadata": {},
   "outputs": [
    {
     "name": "stdout",
     "output_type": "stream",
     "text": [
      "v1.add(v2) =  (40, 60)\n"
     ]
    }
   ],
   "source": [
    "v1 = Vector2D(30, 40)\n",
    "v2 = Vector2D(10, 20)\n",
    "v3 = v1.add(v2)\n",
    "print('v1.add(v2) = ', v3)"
   ]
  },
  {
   "cell_type": "code",
   "execution_count": 23,
   "id": "bb745226",
   "metadata": {},
   "outputs": [],
   "source": [
    "class Vector2D:\n",
    "    def __init__(self, x, y):\n",
    "        self.x = x\n",
    "        self.y = y\n",
    "    def __str__(self):\n",
    "        return \"({}, {})\".format(self.x, self.y)\n",
    "    def __add__(self, orther):\n",
    "        return Vector2D(self.x + orther.x, self.y + orther.y)\n",
    "    def __sub__(self, orther):\n",
    "        return Vector2D(self.x - orther.x, self.y - orther.y)"
   ]
  },
  {
   "cell_type": "code",
   "execution_count": 24,
   "id": "689b5494",
   "metadata": {},
   "outputs": [
    {
     "name": "stdout",
     "output_type": "stream",
     "text": [
      "v1 + v2 =  (40, 60)\n",
      "v1 - v2 =  (20, 20)\n"
     ]
    }
   ],
   "source": [
    "v1 = Vector2D(30, 40)\n",
    "v2 = Vector2D(10, 20)\n",
    "v3 = v1 + v2\n",
    "print(\"v1 + v2 = \", v3)\n",
    "v4 = v1 - v2\n",
    "print(\"v1 - v2 = \", v4)"
   ]
  },
  {
   "cell_type": "code",
   "execution_count": null,
   "id": "6a35ffb7",
   "metadata": {},
   "outputs": [],
   "source": []
  }
 ],
 "metadata": {
  "kernelspec": {
   "display_name": "Python 3 (ipykernel)",
   "language": "python",
   "name": "python3"
  },
  "language_info": {
   "codemirror_mode": {
    "name": "ipython",
    "version": 3
   },
   "file_extension": ".py",
   "mimetype": "text/x-python",
   "name": "python",
   "nbconvert_exporter": "python",
   "pygments_lexer": "ipython3",
   "version": "3.9.7"
  }
 },
 "nbformat": 4,
 "nbformat_minor": 5
}
