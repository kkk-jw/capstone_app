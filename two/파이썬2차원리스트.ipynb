{
 "cells": [
  {
   "cell_type": "code",
   "execution_count": 4,
   "id": "b89eb3ec",
   "metadata": {},
   "outputs": [
    {
     "name": "stdout",
     "output_type": "stream",
     "text": [
      "[1, 2, 3, 4]\n",
      "<class 'list'>\n"
     ]
    }
   ],
   "source": [
    "a = [1, 2, 3, 4]\n",
    "print(a)\n",
    "print(type(a))"
   ]
  },
  {
   "cell_type": "code",
   "execution_count": 6,
   "id": "00d8fc58",
   "metadata": {},
   "outputs": [
    {
     "name": "stdout",
     "output_type": "stream",
     "text": [
      "[[10, 20], [30, 40], [50, 60]]\n",
      "<class 'list'>\n"
     ]
    }
   ],
   "source": [
    "a = [[10, 20], [30, 40], [50,60]]\n",
    "print(a)\n",
    "print(type(a))"
   ]
  },
  {
   "cell_type": "code",
   "execution_count": 9,
   "id": "0a484f44",
   "metadata": {},
   "outputs": [
    {
     "name": "stdout",
     "output_type": "stream",
     "text": [
      "[[10, 20], [30, 40], [50, 60]]\n"
     ]
    }
   ],
   "source": [
    "a = [[10, 20],\n",
    "    [30,40],\n",
    "    [50,60]]\n",
    "print(a)"
   ]
  },
  {
   "cell_type": "code",
   "execution_count": 10,
   "id": "e4532ebb",
   "metadata": {},
   "outputs": [
    {
     "name": "stdout",
     "output_type": "stream",
     "text": [
      "[[10, 1000], [30, 40], [50, 60]]\n"
     ]
    }
   ],
   "source": [
    "a[0][1] = 1000\n",
    "print(a)"
   ]
  },
  {
   "cell_type": "code",
   "execution_count": 11,
   "id": "af121406",
   "metadata": {},
   "outputs": [
    {
     "name": "stdout",
     "output_type": "stream",
     "text": [
      "1\n",
      "2\n",
      "3\n",
      "4\n"
     ]
    }
   ],
   "source": [
    "a = [1, 2, 3, 4]\n",
    "for i in a:\n",
    "    print(i)"
   ]
  },
  {
   "cell_type": "code",
   "execution_count": 13,
   "id": "9a513741",
   "metadata": {},
   "outputs": [
    {
     "name": "stdout",
     "output_type": "stream",
     "text": [
      "1020\n",
      "3040\n",
      "5060\n"
     ]
    }
   ],
   "source": [
    "a = [[10, 20],\n",
    "    [30,40],\n",
    "    [50,60]]\n",
    "\n",
    "for i in a:\n",
    "    for j in i:\n",
    "        print(j, end = '')\n",
    "    print()"
   ]
  },
  {
   "cell_type": "code",
   "execution_count": 17,
   "id": "c9a2603b",
   "metadata": {},
   "outputs": [
    {
     "name": "stdout",
     "output_type": "stream",
     "text": [
      "3\n",
      "10 20 \n",
      "30 40 \n",
      "50 60 \n"
     ]
    }
   ],
   "source": [
    "a = [[10, 20],\n",
    "    [30,40],\n",
    "    [50,60]]\n",
    "\n",
    "print(len(a))\n",
    "for i in range(len(a)):\n",
    "    for j in range(len(a[i])):\n",
    "        print(a[i][j], end = ' ')\n",
    "    print()"
   ]
  },
  {
   "cell_type": "code",
   "execution_count": 19,
   "id": "693958aa",
   "metadata": {},
   "outputs": [
    {
     "name": "stdout",
     "output_type": "stream",
     "text": [
      "[[0, 0], [0, 0], [0, 0]]\n"
     ]
    }
   ],
   "source": [
    "a = []\n",
    "for i in range(3):\n",
    "    line = []\n",
    "    for j in range(2):\n",
    "        line.append(0)\n",
    "    a.append(line)\n",
    "print(a)"
   ]
  },
  {
   "cell_type": "code",
   "execution_count": 21,
   "id": "5e20bd26",
   "metadata": {},
   "outputs": [
    {
     "name": "stdout",
     "output_type": "stream",
     "text": [
      "[[1, 0, 1, 0], [1, 0, 1, 0], [1, 0, 1, 0]]\n"
     ]
    }
   ],
   "source": [
    "a = []\n",
    "\n",
    "for i in range(3):\n",
    "    line = []\n",
    "    for j in range(4):\n",
    "        if j%2 == 0:\n",
    "            line.append(1)\n",
    "        else:\n",
    "            line.append(0)\n",
    "    a.append(line)\n",
    "\n",
    "print(a)"
   ]
  },
  {
   "cell_type": "markdown",
   "id": "7326bb0a",
   "metadata": {},
   "source": [
    "## 중앙값 응용문제"
   ]
  },
  {
   "cell_type": "code",
   "execution_count": 23,
   "id": "f6523c9e",
   "metadata": {},
   "outputs": [
    {
     "name": "stdout",
     "output_type": "stream",
     "text": [
      "[[55, 33, 250, 44], [88, 1, 76, 23], [199, 222, 38, 47], [155, 145, 20, 99]]\n"
     ]
    }
   ],
   "source": [
    "a = [[55, 33, 250, 44],\n",
    "    [88, 1, 76, 23],\n",
    "    [199, 222, 38, 47],\n",
    "    [155, 145, 20, 99]]\n",
    "print(a)"
   ]
  },
  {
   "cell_type": "code",
   "execution_count": 26,
   "id": "fb1c6b59",
   "metadata": {},
   "outputs": [
    {
     "name": "stdout",
     "output_type": "stream",
     "text": [
      "[55, 33, 250, 44, 88, 1, 76, 23, 199, 222, 38, 47, 155, 145, 20, 99]\n"
     ]
    }
   ],
   "source": [
    "list_1d = []\n",
    "for i in range(len(a)):\n",
    "    for j in range(len(a[i])):\n",
    "        list_1d.append(a[i][j])\n",
    "print(list_1d)"
   ]
  },
  {
   "cell_type": "code",
   "execution_count": 28,
   "id": "0b2b1bd0",
   "metadata": {},
   "outputs": [
    {
     "name": "stdout",
     "output_type": "stream",
     "text": [
      "[1, 20, 23, 33, 38, 44, 47, 55, 76, 88, 99, 145, 155, 199, 222, 250]\n"
     ]
    }
   ],
   "source": [
    "list_1d.sort()\n",
    "print(list_1d)"
   ]
  },
  {
   "cell_type": "code",
   "execution_count": 31,
   "id": "387ac1a4",
   "metadata": {},
   "outputs": [
    {
     "name": "stdout",
     "output_type": "stream",
     "text": [
      "중앙값 :  76\n"
     ]
    }
   ],
   "source": [
    "center = list_1d[len(list_1d)//2]\n",
    "print(\"중앙값 : \", center)"
   ]
  }
 ],
 "metadata": {
  "kernelspec": {
   "display_name": "Python 3 (ipykernel)",
   "language": "python",
   "name": "python3"
  },
  "language_info": {
   "codemirror_mode": {
    "name": "ipython",
    "version": 3
   },
   "file_extension": ".py",
   "mimetype": "text/x-python",
   "name": "python",
   "nbconvert_exporter": "python",
   "pygments_lexer": "ipython3",
   "version": "3.9.7"
  }
 },
 "nbformat": 4,
 "nbformat_minor": 5
}
