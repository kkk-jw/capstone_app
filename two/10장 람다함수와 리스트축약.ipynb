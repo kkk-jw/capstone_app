{
 "cells": [
  {
   "cell_type": "markdown",
   "id": "ab4598b6",
   "metadata": {},
   "source": [
    "## 람다함수"
   ]
  },
  {
   "cell_type": "code",
   "execution_count": 1,
   "id": "64bf861b",
   "metadata": {},
   "outputs": [],
   "source": [
    "def add(x, y):\n",
    "    return x + y"
   ]
  },
  {
   "cell_type": "code",
   "execution_count": 2,
   "id": "7537c936",
   "metadata": {},
   "outputs": [
    {
     "name": "stdout",
     "output_type": "stream",
     "text": [
      "100과 200의 합 :  300\n"
     ]
    }
   ],
   "source": [
    "print('100과 200의 합 : ',  add(100, 200))"
   ]
  },
  {
   "cell_type": "code",
   "execution_count": 5,
   "id": "df111fc2",
   "metadata": {},
   "outputs": [
    {
     "name": "stdout",
     "output_type": "stream",
     "text": [
      "100과 200의 합 :  300\n"
     ]
    }
   ],
   "source": [
    "add = lambda x, y : x + y\n",
    "print('100과 200의 합 : ', add(100, 200))"
   ]
  },
  {
   "cell_type": "code",
   "execution_count": 6,
   "id": "9815abb1",
   "metadata": {},
   "outputs": [
    {
     "name": "stdout",
     "output_type": "stream",
     "text": [
      "100과 200의 합:  300\n"
     ]
    }
   ],
   "source": [
    "print('100과 200의 합: ', (lambda x, y: x+y)(100, 200))"
   ]
  },
  {
   "cell_type": "markdown",
   "id": "3fd9be91",
   "metadata": {},
   "source": [
    "## Lab 10-1"
   ]
  },
  {
   "cell_type": "code",
   "execution_count": 7,
   "id": "e276a371",
   "metadata": {},
   "outputs": [
    {
     "name": "stdout",
     "output_type": "stream",
     "text": [
      "200 - 100 =  100\n"
     ]
    }
   ],
   "source": [
    "def sub(x, y):\n",
    "    return x - y\n",
    "print('200 - 100 = ', sub(200, 100))"
   ]
  },
  {
   "cell_type": "code",
   "execution_count": 8,
   "id": "02da576c",
   "metadata": {},
   "outputs": [
    {
     "name": "stdout",
     "output_type": "stream",
     "text": [
      "200 - 100 =  100\n"
     ]
    }
   ],
   "source": [
    "print('200 - 100 = ', (lambda x, y : x-y)(200, 100))"
   ]
  },
  {
   "cell_type": "markdown",
   "id": "ca526634",
   "metadata": {},
   "source": [
    "## 필터 함수"
   ]
  },
  {
   "cell_type": "code",
   "execution_count": 10,
   "id": "75c2f2fe",
   "metadata": {},
   "outputs": [],
   "source": [
    "def adult_func(n):\n",
    "    if n >= 19:\n",
    "        return True\n",
    "    else:\n",
    "        return False"
   ]
  },
  {
   "cell_type": "code",
   "execution_count": 13,
   "id": "53cb8c05",
   "metadata": {},
   "outputs": [
    {
     "name": "stdout",
     "output_type": "stream",
     "text": [
      "성년 리스트 :\n",
      "34.39.20.54."
     ]
    }
   ],
   "source": [
    "ages = [34, 39, 20,18, 13, 54]\n",
    "print('성년 리스트 :')\n",
    "for a in filter(adult_func, ages):\n",
    "    print(a, end = '.')"
   ]
  },
  {
   "cell_type": "code",
   "execution_count": 16,
   "id": "0890b6a3",
   "metadata": {},
   "outputs": [
    {
     "name": "stdout",
     "output_type": "stream",
     "text": [
      "성년리스트 : \n",
      "34 39 20 54 "
     ]
    }
   ],
   "source": [
    "ages = [34, 39, 20,18, 13, 54]\n",
    "\n",
    "print('성년리스트 : ')\n",
    "for a in filter(lambda x:x >= 19, ages):\n",
    "    print(a, end = ' ')"
   ]
  },
  {
   "cell_type": "code",
   "execution_count": 17,
   "id": "5bae1428",
   "metadata": {},
   "outputs": [],
   "source": [
    "def minus_func(n):\n",
    "    if n < 0:\n",
    "        return True\n",
    "    else:\n",
    "        return False"
   ]
  },
  {
   "cell_type": "code",
   "execution_count": 18,
   "id": "6a84961d",
   "metadata": {},
   "outputs": [
    {
     "name": "stdout",
     "output_type": "stream",
     "text": [
      "음수 리스트:  [-30, -5, -90, -36]\n"
     ]
    }
   ],
   "source": [
    "n_list = [-30, 45, -5, -90, 20, 53, 77, -36]\n",
    "minus_list = []\n",
    "for n in filter(minus_func, n_list):\n",
    "    minus_list.append(n)\n",
    "    \n",
    "print('음수 리스트: ', minus_list)\n",
    "    "
   ]
  },
  {
   "cell_type": "code",
   "execution_count": 20,
   "id": "591d6eac",
   "metadata": {},
   "outputs": [
    {
     "name": "stdout",
     "output_type": "stream",
     "text": [
      "음수 리스트 :  [-30, -5, -90, -36]\n"
     ]
    }
   ],
   "source": [
    "n_list = [-30, 45, -5, -90, 20, 53, 77, -36]\n",
    "minus_listA = []\n",
    "for n in filter(lambda x : x < 0, n_list):\n",
    "    minus_list.append(n)\n",
    "    \n",
    "print('음수 리스트 : ', minus_list)"
   ]
  },
  {
   "cell_type": "code",
   "execution_count": 21,
   "id": "4307df8d",
   "metadata": {},
   "outputs": [
    {
     "name": "stdout",
     "output_type": "stream",
     "text": [
      "음수 리스트 :  [-30, -5, -90, -36]\n"
     ]
    }
   ],
   "source": [
    "n_list = [-30, 45, -5, -90, 20, 53, 77, -36]\n",
    "minus_listA = list(filter(lambda x : x < 0, n_list))\n",
    "    \n",
    "print('음수 리스트 : ', minus_list)"
   ]
  },
  {
   "cell_type": "markdown",
   "id": "4617648b",
   "metadata": {},
   "source": [
    "## Lab 10-2"
   ]
  },
  {
   "cell_type": "code",
   "execution_count": 22,
   "id": "7644e2f1",
   "metadata": {},
   "outputs": [
    {
     "name": "stdout",
     "output_type": "stream",
     "text": [
      "even_list =  [2, 4, 6, 8, 10]\n"
     ]
    }
   ],
   "source": [
    "n_list = [1, 2, 3, 4, 5, 6, 7, 8, 9, 10]\n",
    "even_list = []\n",
    "for n in filter(lambda x : x % 2 == 0, n_list):\n",
    "    even_list.append(n)\n",
    "print('even_list = ', even_list)"
   ]
  },
  {
   "cell_type": "code",
   "execution_count": 24,
   "id": "b47c688b",
   "metadata": {},
   "outputs": [
    {
     "name": "stdout",
     "output_type": "stream",
     "text": [
      "even_list =  [2, 4, 6, 8, 10]\n"
     ]
    }
   ],
   "source": [
    "n_list = [1, 2, 3, 4, 5, 6, 7, 8, 9, 10]\n",
    "even_list = list(filter(lambda x:x % 2 == 0, n_list))\n",
    "print('even_list = ', even_list)"
   ]
  },
  {
   "cell_type": "code",
   "execution_count": 25,
   "id": "67ea5b32",
   "metadata": {},
   "outputs": [
    {
     "name": "stdout",
     "output_type": "stream",
     "text": [
      "even_list =  [1, 3, 5, 7, 9]\n"
     ]
    }
   ],
   "source": [
    "n_list = [1, 2, 3, 4, 5, 6, 7, 8, 9, 10]\n",
    "even_list = []\n",
    "for n in filter(lambda x : x % 2 == 1, n_list):\n",
    "    even_list.append(n)\n",
    "print('even_list = ', even_list)"
   ]
  },
  {
   "cell_type": "code",
   "execution_count": 26,
   "id": "d39a748b",
   "metadata": {},
   "outputs": [
    {
     "name": "stdout",
     "output_type": "stream",
     "text": [
      "even_list =  [1, 3, 5, 7, 9]\n"
     ]
    }
   ],
   "source": [
    "n_list = [1, 2, 3, 4, 5, 6, 7, 8, 9, 10]\n",
    "even_list = list(filter(lambda x:x % 2 == 1, n_list))\n",
    "print('even_list = ', even_list)"
   ]
  },
  {
   "cell_type": "markdown",
   "id": "64e3d326",
   "metadata": {},
   "source": [
    "## 맵 함수"
   ]
  },
  {
   "cell_type": "code",
   "execution_count": 27,
   "id": "83551e0f",
   "metadata": {},
   "outputs": [
    {
     "name": "stdout",
     "output_type": "stream",
     "text": [
      "[1, 4, 9, 16, 25, 36, 49]\n"
     ]
    }
   ],
   "source": [
    "a = [1, 2, 3, 4, 5, 6, 7]\n",
    "square_a = []\n",
    "for n in a:\n",
    "    square_a.append(n**2)\n",
    "print(square_a)"
   ]
  },
  {
   "cell_type": "code",
   "execution_count": null,
   "id": "3b24ae00",
   "metadata": {},
   "outputs": [],
   "source": []
  }
 ],
 "metadata": {
  "kernelspec": {
   "display_name": "Python 3 (ipykernel)",
   "language": "python",
   "name": "python3"
  },
  "language_info": {
   "codemirror_mode": {
    "name": "ipython",
    "version": 3
   },
   "file_extension": ".py",
   "mimetype": "text/x-python",
   "name": "python",
   "nbconvert_exporter": "python",
   "pygments_lexer": "ipython3",
   "version": "3.9.7"
  }
 },
 "nbformat": 4,
 "nbformat_minor": 5
}
